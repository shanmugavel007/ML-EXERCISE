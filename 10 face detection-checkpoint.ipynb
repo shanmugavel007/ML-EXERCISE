{
 "cells": [
  {
   "cell_type": "code",
   "execution_count": 3,
   "id": "258ee816",
   "metadata": {},
   "outputs": [],
   "source": [
    "#exp 10 face detection\n",
    "import cv2\n",
    "face_cascade = cv2.CascadeClassifier('E:\\\\PROGRAMMING TUTORIALS\\\\PROGRAMMING PDFS\\\\machine-learning-lab-exercises-main SEM4\\\\notebooks\\\\models\\\\haarcascade_frontalface_default.xml')"
   ]
  },
  {
   "cell_type": "code",
   "execution_count": null,
   "id": "de394fef",
   "metadata": {},
   "outputs": [],
   "source": [
    "cap = cv2.VideoCapture('E:\\\\PROGRAMMING TUTORIALS\\\\PROGRAMMING PDFS\\\\machine-learning-lab-exercises-main SEM4\\\\notebooks\\\\datasets\\\\CERN_Higgs boson_EDIT.mp4')\n",
    "while True:\n",
    "## Read the frame\n",
    "    ok, img = cap.read()\n",
    "    if not ok:\n",
    "        print('Video Ending')\n",
    "        cap.release()\n",
    "        cv2.destroyAllWindows()\n",
    "        break \n",
    "    # Convert to grayscale\n",
    "    gray = cv2.cvtColor(img, cv2.COLOR_BGR2GRAY)\n",
    "    # Detect the faces\n",
    "    faces = face_cascade.detectMultiScale(gray, 1.1,4)\n",
    "    # Draw the rectangle around each face\n",
    "    for (x, y, w, h) in faces:\n",
    "       cv2.rectangle(img, (x, y), (x+w, y+h),(0,0,255))\n",
    "    # Display\n",
    "    cv2.imshow('img', img)\n",
    "    # quit Press Key Q to quit and Close window\n",
    "    if cv2.waitKey(1) & 0xFF == ord('q'): \n",
    "        # Release the VideoCapture object\n",
    "        cap.release()\n",
    "        # Close all window\n",
    "        cv2.destroyAllWindows()\n",
    "        break"
   ]
  },
  {
   "cell_type": "code",
   "execution_count": null,
   "id": "8b774201",
   "metadata": {},
   "outputs": [],
   "source": []
  }
 ],
 "metadata": {
  "kernelspec": {
   "display_name": "Python 3",
   "language": "python",
   "name": "python3"
  },
  "language_info": {
   "codemirror_mode": {
    "name": "ipython",
    "version": 3
   },
   "file_extension": ".py",
   "mimetype": "text/x-python",
   "name": "python",
   "nbconvert_exporter": "python",
   "pygments_lexer": "ipython3",
   "version": "3.8.8"
  }
 },
 "nbformat": 4,
 "nbformat_minor": 5
}
