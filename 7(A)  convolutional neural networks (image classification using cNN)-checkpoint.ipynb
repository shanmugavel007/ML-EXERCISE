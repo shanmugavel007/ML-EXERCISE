{
 "cells": [
  {
   "cell_type": "code",
   "execution_count": null,
   "id": "393fb982",
   "metadata": {},
   "outputs": [],
   "source": [
    "#7 a\n",
    "import pandas as pd\n",
    "import numpy as np\n",
    "\n",
    "import matplotlib.pyplot as plt\n",
    "import seaborn as sns\n",
    "\n",
    "from sklearn.model_selection import train_test_split\n",
    "from sklearn.metrics import confusion_matrix\n",
    "\n",
    "import tensorflow as tf\n",
    "from tensorflow.keras.models import Sequential\n",
    "from tensorflow.keras.layers import (\n",
    "    Conv2D, MaxPooling2D,\n",
    "    Dense, Dropout, Flatten,\n",
    "    BatchNormalization\n",
    ")\n",
    "\n",
    "from keras.utils.np_utils import to_categorical\n",
    "\n",
    "import joblib"
   ]
  },
  {
   "cell_type": "code",
   "execution_count": null,
   "id": "ef745990",
   "metadata": {},
   "outputs": [],
   "source": [
    "train = pd.read_csv('E:\\\\PROGRAMMING TUTORIALS\\\\machine-learning-lab-exercises-main\\\\notebooks\\\\datasets\\\\mnist\\\\train.csv')\n",
    "test = pd.read_csv('E:\\\\PROGRAMMING TUTORIALS\\\\machine-learning-lab-exercises-main\\\\notebooks\\\\datasets\\\\mnist\\\\test.csv')"
   ]
  },
  {
   "cell_type": "code",
   "execution_count": null,
   "id": "9f366517",
   "metadata": {},
   "outputs": [],
   "source": [
    "# converting to np arrays\n",
    "X_train = train.drop(['label'], axis=1).values\n",
    "y_train = train['label'].values\n",
    "X_test = test.values\n",
    "\n",
    "# Reshape image in 3 dimensions (height = 28px, width = 28px , channel = 1)\n",
    "# channel = 1 => For gray scale\n",
    "X_train = X_train.reshape(-1,28,28,1) \n",
    "X_test = X_test.reshape(-1,28,28,1)\n",
    "\n",
    "# Normalizing to a range of [0..1] from [0..255]\n",
    "X_train = X_train /255\n",
    "X_test = X_test/255\n",
    "\n",
    "# Encode labels to one hot vectors (ex : 2 -> [0,0,1,0,0,0,0,0,0,0])\n",
    "y_train = to_categorical(y_train)"
   ]
  },
  {
   "cell_type": "code",
   "execution_count": null,
   "id": "b7622a55",
   "metadata": {},
   "outputs": [],
   "source": [
    "fig, axes = plt.subplots(3, 3, figsize=(6, 6))\n",
    "for i, ax in enumerate(axes.flat):\n",
    "    ax.imshow(X_train[i].squeeze(), cmap='binary')\n",
    "    digit = y_train[i].argmax()\n",
    "    ax.set(title = f\"label: {digit}\")\n",
    "fig.tight_layout()"
   ]
  },
  {
   "cell_type": "code",
   "execution_count": null,
   "id": "04911c17",
   "metadata": {},
   "outputs": [],
   "source": [
    "def get_model():\n",
    "    model=Sequential()\n",
    "\n",
    "    model.add(Conv2D(filters=64, kernel_size = (3,3), activation=\"relu\", input_shape=(28,28,1)))\n",
    "    model.add(Conv2D(filters=64, kernel_size = (3,3), activation=\"relu\"))\n",
    "\n",
    "    model.add(MaxPooling2D(pool_size=(2,2)))\n",
    "    model.add(BatchNormalization())\n",
    "    model.add(Conv2D(filters=128, kernel_size = (3,3), activation=\"relu\"))\n",
    "    model.add(Conv2D(filters=128, kernel_size = (3,3), activation=\"relu\"))\n",
    "\n",
    "    model.add(MaxPooling2D(pool_size=(2,2)))\n",
    "    model.add(BatchNormalization())    \n",
    "    model.add(Conv2D(filters=256, kernel_size = (3,3), activation=\"relu\"))\n",
    "        \n",
    "    model.add(MaxPooling2D(pool_size=(2,2)))\n",
    "        \n",
    "    model.add(Flatten())\n",
    "    model.add(BatchNormalization())\n",
    "    model.add(Dense(512,activation=\"relu\"))\n",
    "        \n",
    "    model.add(Dense(10,activation=\"softmax\"))\n",
    "        \n",
    "    model.compile(loss=\"categorical_crossentropy\", optimizer=\"adam\", metrics=[\"accuracy\"])\n",
    "    return model"
   ]
  },
  {
   "cell_type": "code",
   "execution_count": null,
   "id": "347f196d",
   "metadata": {},
   "outputs": [],
   "source": [
    "tf.random.set_seed(0)\n",
    "model = get_model()\n",
    "print(model.summary())"
   ]
  },
  {
   "cell_type": "code",
   "execution_count": null,
   "id": "6274500d",
   "metadata": {},
   "outputs": [],
   "source": [
    "history = model.fit(\n",
    "    X_train, y_train,\n",
    "    batch_size = 64,\n",
    "    epochs = 20,\n",
    "    validation_split=.2\n",
    ")\n",
    "tf.keras.models.save_model(model,\"models/mnist_cnn.h5\") \n",
    "joblib.dump(history.history, \"models/mnist_cnn.history\")\n",
    "\n",
    "# Use only the below lines if model is not re trained\n",
    "model = tf.keras.models.load_model(\"models/mnist_cnn.h5\")\n",
    "history = joblib.load(\"models/mnist_cnn.history\")"
   ]
  },
  {
   "cell_type": "code",
   "execution_count": null,
   "id": "798b2698",
   "metadata": {},
   "outputs": [],
   "source": [
    "fig, ax = plt.subplots(1,2, figsize=(15,5))\n",
    "ax[0].plot(history['loss'], color='b', label=\"Training loss\")\n",
    "ax[0].plot(history['val_loss'], color='r', label=\"validation loss\",axes =ax[0])\n",
    "ax[0].legend()\n",
    "\n",
    "ax[1].plot(history['accuracy'], color='b', label=\"Training accuracy\")\n",
    "ax[1].plot(history['val_accuracy'], color='r',label=\"Validation accuracy\")\n",
    "ax[1].legend()"
   ]
  },
  {
   "cell_type": "code",
   "execution_count": null,
   "id": "97c32786",
   "metadata": {},
   "outputs": [],
   "source": [
    "y_pred = model.predict(X_test)"
   ]
  },
  {
   "cell_type": "code",
   "execution_count": null,
   "id": "96227e2b",
   "metadata": {},
   "outputs": [],
   "source": [
    "fig, axis = plt.subplots(4, 4, figsize=(8,10))\n",
    "for i, ax in enumerate(axis.flat):\n",
    "    ax.imshow(X_test[i].squeeze(), cmap='binary')\n",
    "    ax.set(title = f\"Prediction: {y_pred[i].argmax()}\");\n",
    "    ax.axis(\"off\")\n",
    "fig.suptitle(\"Test Predictions\")\n",
    "fig.tight_layout(rect=[0, 0.05, 1, 0.95])"
   ]
  },
  {
   "cell_type": "code",
   "execution_count": null,
   "id": "62f0afda",
   "metadata": {},
   "outputs": [],
   "source": []
  },
  {
   "cell_type": "code",
   "execution_count": null,
   "id": "69caf7e2",
   "metadata": {},
   "outputs": [],
   "source": []
  }
 ],
 "metadata": {
  "kernelspec": {
   "display_name": "Python 3",
   "language": "python",
   "name": "python3"
  },
  "language_info": {
   "codemirror_mode": {
    "name": "ipython",
    "version": 3
   },
   "file_extension": ".py",
   "mimetype": "text/x-python",
   "name": "python",
   "nbconvert_exporter": "python",
   "pygments_lexer": "ipython3",
   "version": "3.8.8"
  }
 },
 "nbformat": 4,
 "nbformat_minor": 5
}
