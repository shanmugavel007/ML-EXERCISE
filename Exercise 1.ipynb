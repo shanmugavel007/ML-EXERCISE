{
 "cells": [
  {
   "cell_type": "code",
   "execution_count": 5,
   "metadata": {},
   "outputs": [],
   "source": [
    "#linear regression\n",
    "import numpy as np\n",
    "import pandas as pd\n",
    "import matplotlib.pyplot as plt"
   ]
  },
  {
   "cell_type": "code",
   "execution_count": 6,
   "metadata": {},
   "outputs": [],
   "source": [
    "class LinearRegression:\n",
    "    def fit(self,X,y):\n",
    "        m = X.shape[0]\n",
    "        X_mean, y_mean = np.mean(X), np.mean(y)\n",
    "        X_mean_diff, y_mean_diff = X-X_mean, y-y_mean\n",
    "        self.b1 = (X_mean_diff @ y_mean_diff) / (X_mean_diff @ X_mean_diff)\n",
    "        self.b0 = y_mean - (self.b1 * X_mean)\n",
    "        print(f\"(b0,b1):({self.b0:.3f},{self.b1:.3f})\")\n",
    "        return self\n",
    "    \n",
    "    def predict(self,X):\n",
    "        return self.b0 + X*self.b1\n",
    "\n",
    "    def evaluate(self,X,y):\n",
    "        y_pred = self.predict(X)\n",
    "        y_diff,y_mean_diff  = y-y_pred , y-np.mean(y)\n",
    "        rmse = np.sqrt(y_diff @ y_diff/X.shape[0])\n",
    "        ss_tot = y_mean_diff @ y_mean_diff\n",
    "        ss_res = y_diff @ y_diff\n",
    "        r2 = 1 - ss_res/ss_tot\n",
    "        print(\"Root mean squared Error:\",rmse)\n",
    "        print(\"R^2 value:\",r2)"
   ]
  },
  {
   "cell_type": "code",
   "execution_count": 7,
   "metadata": {},
   "outputs": [],
   "source": [
    "def regression_plot(X,y,model,title=\"\"):\n",
    "    plt.figure(figsize=(14,7))\n",
    "    plt.title(title)\n",
    "    plt.xlabel(\"Head Size(cm^3)\")\n",
    "    plt.ylabel(\"Brain Weights(grams)\")\n",
    "    \n",
    "    x_line = np.array([np.min(X) - 100,np.max(X) + 100]).reshape(-1,1)\n",
    "    y_line = model.predict(x_line)\n",
    "    \n",
    "    plt.scatter(X, y,c='orange', label='Original Data Points')\n",
    "    plt.plot(x_line, y_line,linewidth=4, label='Regression Line')\n",
    "    plt.legend()"
   ]
  },
  {
   "cell_type": "code",
   "execution_count": 18,
   "metadata": {},
   "outputs": [
    {
     "name": "stdout",
     "output_type": "stream",
     "text": [
      "size: 948 ; shape (237, 4)\n"
     ]
    },
    {
     "data": {
      "text/html": [
       "<div>\n",
       "<style scoped>\n",
       "    .dataframe tbody tr th:only-of-type {\n",
       "        vertical-align: middle;\n",
       "    }\n",
       "\n",
       "    .dataframe tbody tr th {\n",
       "        vertical-align: top;\n",
       "    }\n",
       "\n",
       "    .dataframe thead th {\n",
       "        text-align: right;\n",
       "    }\n",
       "</style>\n",
       "<table border=\"1\" class=\"dataframe\">\n",
       "  <thead>\n",
       "    <tr style=\"text-align: right;\">\n",
       "      <th></th>\n",
       "      <th>Gender</th>\n",
       "      <th>Age Range</th>\n",
       "      <th>Head Size(cm^3)</th>\n",
       "      <th>Brain Weight(grams)</th>\n",
       "    </tr>\n",
       "  </thead>\n",
       "  <tbody>\n",
       "    <tr>\n",
       "      <th>0</th>\n",
       "      <td>1</td>\n",
       "      <td>1</td>\n",
       "      <td>4512</td>\n",
       "      <td>1530</td>\n",
       "    </tr>\n",
       "    <tr>\n",
       "      <th>1</th>\n",
       "      <td>1</td>\n",
       "      <td>1</td>\n",
       "      <td>3738</td>\n",
       "      <td>1297</td>\n",
       "    </tr>\n",
       "    <tr>\n",
       "      <th>2</th>\n",
       "      <td>1</td>\n",
       "      <td>1</td>\n",
       "      <td>4261</td>\n",
       "      <td>1335</td>\n",
       "    </tr>\n",
       "    <tr>\n",
       "      <th>3</th>\n",
       "      <td>1</td>\n",
       "      <td>1</td>\n",
       "      <td>3777</td>\n",
       "      <td>1282</td>\n",
       "    </tr>\n",
       "    <tr>\n",
       "      <th>4</th>\n",
       "      <td>1</td>\n",
       "      <td>1</td>\n",
       "      <td>4177</td>\n",
       "      <td>1590</td>\n",
       "    </tr>\n",
       "  </tbody>\n",
       "</table>\n",
       "</div>"
      ],
      "text/plain": [
       "   Gender  Age Range  Head Size(cm^3)  Brain Weight(grams)\n",
       "0       1          1             4512                 1530\n",
       "1       1          1             3738                 1297\n",
       "2       1          1             4261                 1335\n",
       "3       1          1             3777                 1282\n",
       "4       1          1             4177                 1590"
      ]
     },
     "execution_count": 18,
     "metadata": {},
     "output_type": "execute_result"
    }
   ],
   "source": [
    "data = pd.read_csv('/headbrain.csv')\n",
    "print(\"size:\",data.size,\"; shape\",data.shape)\n",
    "data.head()"
   ]
  },
  {
   "cell_type": "code",
   "execution_count": null,
   "metadata": {},
   "outputs": [],
   "source": [
    "X = data['Head Size(cm^3)'].values\n",
    "y = data['Brain Weight(grams)'].values"
   ]
  },
  {
   "cell_type": "code",
   "execution_count": null,
   "metadata": {},
   "outputs": [],
   "source": [
    "lin_reg_model= LinearRegression()\n",
    "lin_reg_model.fit(X,y)\n",
    "regression_plot(X,y,lin_reg_model,title=\"Regression Using Oridinary Least Squares Method\")\n",
    "lin_reg_model.evaluate(X,y)"
   ]
  },
  {
   "cell_type": "code",
   "execution_count": null,
   "metadata": {},
   "outputs": [],
   "source": [
    "from sklearn.linear_model import LinearRegression as SkLinearRegression\n",
    "from sklearn.metrics import mean_squared_error"
   ]
  },
  {
   "cell_type": "code",
   "execution_count": null,
   "metadata": {},
   "outputs": [],
   "source": [
    "# sklearn requires 2d array for X values \n",
    "# thus we reshape X to X1 as follows\n",
    "X1 = X.reshape(-1,1)"
   ]
  },
  {
   "cell_type": "code",
   "execution_count": null,
   "metadata": {},
   "outputs": [],
   "source": [
    "sk_lin_reg_model = SkLinearRegression().fit(X1, y)\n",
    "\n",
    "regression_plot(X1,y,sk_lin_reg_model,title=\"Linear Regression Using Scikit Learn\")\n",
    "\n",
    "y_hat = sk_lin_reg_model.predict(X1)\n",
    "rmse = np.sqrt(mean_squared_error(y, y_hat))\n",
    "r2_score = sk_lin_reg_model.score(X1, y)\n",
    "print(\"Root Mean Squared Error:\",rmse)\n",
    "print(\"R^2 value:\",r2_score)"
   ]
  },
  {
   "cell_type": "markdown",
   "metadata": {},
   "source": [
    "## b) Logistic Regression"
   ]
  },
  {
   "cell_type": "markdown",
   "metadata": {},
   "source": [
    "### Program 1 - Preprocessing and implementing Logistic Regression on titanic dataset using Scikit Learn"
   ]
  },
  {
   "cell_type": "markdown",
   "metadata": {},
   "source": [
    "#### AIM:\n",
    "To preprocess and implement Logistic Regression in titanic dataset using Scikit Learn"
   ]
  },
  {
   "cell_type": "markdown",
   "metadata": {},
   "source": [
    "#### Part 1 - Importing modules and Loading the dataset"
   ]
  },
  {
   "cell_type": "code",
   "execution_count": null,
   "metadata": {},
   "outputs": [],
   "source": [
    "import pandas as pd\n",
    "import numpy as np\n",
    "import matplotlib.pyplot as plt\n",
    "import seaborn as sns\n",
    "\n",
    "titanic_df = pd.read_csv('./datasets/titanic.csv')\n",
    "titanic_df.head()"
   ]
  },
  {
   "cell_type": "markdown",
   "metadata": {},
   "source": [
    "#### Part 2 - Visualizing the dataset"
   ]
  },
  {
   "cell_type": "code",
   "execution_count": null,
   "metadata": {},
   "outputs": [],
   "source": [
    "def plot(title,plot_func,*args,**kwargs):\n",
    "    plt.title(title)\n",
    "    plot_func(*args,**kwargs)\n",
    "    plt.show()\n",
    "\n",
    "plot('Visualize Missing Data',\n",
    "   sns.heatmap,titanic_df.isnull(), cbar=False)\n",
    "plot(\"Survival vs Sex\",\n",
    "    sns.countplot,x='Survived', hue='Sex', data=titanic_df)\n",
    "plot(\"Survival vs Passenger Class\",\n",
    "    sns.countplot,x='Survived', hue='Pclass', data=titanic_df)\n",
    "plot(\"Histogram of Passengers Age\",\n",
    "    plt.hist,titanic_df[\"Age\"].dropna())\n",
    "plot(\"Histogram of ship Fare\",\n",
    "    plt.hist,titanic_df['Fare'])\n",
    "plot(\"Passenger class vs Age\",\n",
    "    sns.boxplot,x='Pclass', y='Age',data=titanic_df)"
   ]
  },
  {
   "cell_type": "markdown",
   "metadata": {},
   "source": [
    "#### Part 3 - Dealing with missing, categorial and irrelevant  data"
   ]
  },
  {
   "cell_type": "code",
   "execution_count": null,
   "metadata": {},
   "outputs": [],
   "source": [
    "mean_ages = {\n",
    "    p_class:titanic_df[titanic_df[\"Pclass\"]==p_class][\"Age\"].mean()\n",
    "    for p_class in titanic_df[\"Pclass\"].unique()\n",
    "}\n",
    "\n",
    "def impute_missing_age(columns):\n",
    "    age , p_class = columns\n",
    "    if pd.isnull(age):\n",
    "        return mean_ages[p_class]\n",
    "    return age\n",
    "\n",
    "titanic_df['Age'] = titanic_df[['Age', 'Pclass']].apply(\n",
    "    impute_missing_age,axis = 1\n",
    ")\n",
    "plot(\"Missing Passengers Age Data\",\n",
    "    sns.heatmap,titanic_df.isnull(), cbar=False)"
   ]
  },
  {
   "cell_type": "code",
   "execution_count": null,
   "metadata": {},
   "outputs": [],
   "source": [
    "titanic_df.drop('Cabin', axis=1, inplace = True)\n",
    "titanic_df.dropna(inplace = True)\n",
    "sex_data = pd.get_dummies(titanic_df['Sex'], drop_first = True)\n",
    "embarked_data = pd.get_dummies(titanic_df['Embarked'], drop_first = True)\n",
    "titanic_df = pd.concat([titanic_df, sex_data, embarked_data], axis = 1)\n",
    "titanic_df.drop(\n",
    "    ['Name', 'PassengerId', 'Ticket', 'Sex', 'Embarked'], \n",
    "    axis =1, inplace = True\n",
    ")\n",
    "titanic_df.head()"
   ]
  },
  {
   "cell_type": "markdown",
   "metadata": {},
   "source": [
    "#### Part 4 - Implementing Logistic Regression using Scikit Learn"
   ]
  },
  {
   "cell_type": "code",
   "execution_count": null,
   "metadata": {},
   "outputs": [],
   "source": [
    "from sklearn.model_selection import train_test_split\n",
    "from sklearn.linear_model import LogisticRegression\n",
    "from sklearn.metrics import classification_report\n",
    "from sklearn.metrics import confusion_matrix\n",
    "from sklearn.preprocessing import minmax_scale\n",
    "\n",
    "titanic_df[[\"Age\",\"Fare\"]] = minmax_scale(titanic_df[[\"Age\",\"Fare\"]])\n",
    "\n",
    "X = titanic_df.drop('Survived', axis = 1)\n",
    "y = titanic_df['Survived']\n",
    "X_train, X_test, y_train, y_test =(\n",
    "    train_test_split(X, y, test_size = 0.3)\n",
    ")\n",
    "model = LogisticRegression()\n",
    "model.fit(X_train, y_train)\n",
    "y_hat = model.predict(X_test)\n",
    "\n",
    "def print_title(title): print(f\"{title:^50}\\n{'='*50}\")\n",
    "    \n",
    "print_title(\"Classification Report\")\n",
    "print(classification_report(y_test, y_hat))\n",
    "print_title(\"Confusion Matrix\")\n",
    "print(confusion_matrix(y_test, y_hat))"
   ]
  },
  {
   "cell_type": "markdown",
   "metadata": {},
   "source": [
    "#### Part 1 - Defining Class for Logistic Regression"
   ]
  },
  {
   "cell_type": "code",
   "execution_count": null,
   "metadata": {},
   "outputs": [],
   "source": [
    "import numpy as np\n",
    "import pandas as pd"
   ]
  },
  {
   "cell_type": "code",
   "execution_count": null,
   "metadata": {},
   "outputs": [],
   "source": [
    "\n",
    "class LogitRegression() :\n",
    "    def __init__( self, learning_rate, iterations) :\n",
    "        self.learning_rate = learning_rate\n",
    "        self.iterations = iterations\n",
    "\n",
    "    def p(self,X):\n",
    "        return 1/(1+np.exp(-(X @ self.w)))\n",
    "\n",
    "    def fit(self, X, y) :\n",
    "        m,n = X.shape\n",
    "        X = np.hstack([np.ones((m,1)),X])\n",
    "        y = y.squeeze()\n",
    "        self.w = np.zeros(n+1)\n",
    "        \n",
    "        for i in range(self.iterations) :\n",
    "            self.w = self.w - self.learning_rate * ((self.p(X)-y) @ X) \n",
    "\n",
    "    def predict(self, X) :\n",
    "        m = X.shape[0]\n",
    "        X = np.hstack([np.ones((m,1)),X])\n",
    "        y_hat = np.where( self.p(X) > 0.5, 1, 0 )\n",
    "        return y_hat"
   ]
  },
  {
   "cell_type": "markdown",
   "metadata": {},
   "source": [
    "#### Part 2 - Loading and Processing Dataset"
   ]
  },
  {
   "cell_type": "code",
   "execution_count": null,
   "metadata": {},
   "outputs": [],
   "source": [
    "from sklearn.preprocessing import minmax_scale\n",
    "from sklearn.model_selection import train_test_split\n",
    "from sklearn.linear_model import LogisticRegression"
   ]
  },
  {
   "cell_type": "code",
   "execution_count": null,
   "metadata": {},
   "outputs": [],
   "source": [
    "\n",
    "diabetes_df = pd.read_csv( \"./datasets/diabetes.csv\" )\n",
    "X = minmax_scale(diabetes_df.iloc[:,:-1].values)\n",
    "y = diabetes_df.iloc[:,-1:].values.reshape(-1)\n",
    "X_train, X_test, y_train, y_test =train_test_split(\n",
    "    X, y, test_size = 1/3, random_state =6\n",
    ")"
   ]
  },
  {
   "cell_type": "code",
   "execution_count": null,
   "metadata": {},
   "outputs": [],
   "source": [
    "\n",
    "models = [\n",
    "    LogitRegression(learning_rate = .1, iterations = 1000),\n",
    "    LogisticRegression()\n",
    "]\n",
    "for model in models:\n",
    "    model.fit(X_train,y_train)\n",
    "    \n",
    "def compute_accuracy(model,X_test,y_test):\n",
    "    y_hat = model.predict(X_test)\n",
    "    return (y_hat==y_test).mean() * 100 \n",
    "\n",
    "print(\"Accuracy on test set by our implementation of Logistic Reg model :\",\n",
    "    compute_accuracy(models[0],X_test,y_test)\n",
    ")\n",
    "print(\"Accuracy on test set by sklearn model :\",\n",
    "    compute_accuracy(models[1],X_test,y_test) \n",
    ")"
   ]
  }
 ],
 "metadata": {
  "interpreter": {
   "hash": "7023248c40563a766f3ae9a0fc81476c1e46277ee22e162240a9cb41b674a272"
  },
  "kernelspec": {
   "display_name": "Python 3",
   "language": "python",
   "name": "python3"
  },
  "language_info": {
   "codemirror_mode": {
    "name": "ipython",
    "version": 3
   },
   "file_extension": ".py",
   "mimetype": "text/x-python",
   "name": "python",
   "nbconvert_exporter": "python",
   "pygments_lexer": "ipython3",
   "version": "3.8.8"
  }
 },
 "nbformat": 4,
 "nbformat_minor": 4
}
